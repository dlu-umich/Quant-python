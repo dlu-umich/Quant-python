{
 "cells": [
  {
   "cell_type": "markdown",
   "metadata": {},
   "source": [
    "# Hyper ants: ants travelling in hyperspace\n",
    "\n",
    "an ant is at the origin in n-dimentional Euclidean space, and is about to traverse the edges of a hypercube with sides of unit length. At each vertex, the ant randomly chooses an edhe, and moves to the next vertex. On average, how far will the ant travel until it reaches (1,1,...,1)?"
   ]
  },
  {
   "cell_type": "code",
   "execution_count": 19,
   "metadata": {},
   "outputs": [
    {
     "data": {
      "text/plain": [
       "{3: 220,\n",
       " 5: 169,\n",
       " 7: 132,\n",
       " 9: 112,\n",
       " 11: 95,\n",
       " 13: 57,\n",
       " 15: 48,\n",
       " 17: 32,\n",
       " 19: 28,\n",
       " 21: 25,\n",
       " 23: 23,\n",
       " 25: 12,\n",
       " 27: 7,\n",
       " 29: 13,\n",
       " 31: 5,\n",
       " 33: 7,\n",
       " 35: 5,\n",
       " 37: 4,\n",
       " 41: 2,\n",
       " 45: 2,\n",
       " 47: 2}"
      ]
     },
     "execution_count": 19,
     "metadata": {},
     "output_type": "execute_result"
    }
   ],
   "source": [
    "from random import randint\n",
    "def number_Of_Moves(dimension):\n",
    "    # return the number of moves needed for \n",
    "    # one simulated trip by the ant.\n",
    "    vertex = [0] * dimension\n",
    "    move_count = 0\n",
    "    while sum(vertex) < dimension:\n",
    "        axis = randint(0, dimension - 1)\n",
    "        vertex[axis] = 1 - vertex[axis]\n",
    "        move_count += 1\n",
    "        #print(vertex)\n",
    "    return move_count\n",
    "\n",
    "number_Of_Trials = 1000\n",
    "trials = [number_Of_Moves(3) for i in range(number_Of_Trials)]\n",
    "number_moves_count = {trial:0 for trial in trials}\n",
    "for trial in trials:\n",
    "    number_moves_count[trial] += 1\n",
    "number_moves_count\n",
    "\n",
    "    "
   ]
  },
  {
   "cell_type": "code",
   "execution_count": null,
   "metadata": {
    "collapsed": true
   },
   "outputs": [],
   "source": []
  }
 ],
 "metadata": {
  "kernelspec": {
   "display_name": "Python 3",
   "language": "python",
   "name": "python3"
  },
  "language_info": {
   "codemirror_mode": {
    "name": "ipython",
    "version": 3
   },
   "file_extension": ".py",
   "mimetype": "text/x-python",
   "name": "python",
   "nbconvert_exporter": "python",
   "pygments_lexer": "ipython3",
   "version": "3.6.1"
  }
 },
 "nbformat": 4,
 "nbformat_minor": 2
}
